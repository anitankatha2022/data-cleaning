{
 "cells": [
  {
   "cell_type": "code",
   "execution_count": 9,
   "id": "e65bacbe",
   "metadata": {},
   "outputs": [],
   "source": [
    "import numpy as np\n",
    "import pandas as pd \n",
    "import matplotlib.pyplot as plt\n",
    "%matplotlib inline\n",
    "import os"
   ]
  },
  {
   "cell_type": "code",
   "execution_count": 10,
   "id": "a862d5fc",
   "metadata": {},
   "outputs": [
    {
     "name": "stdout",
     "output_type": "stream",
     "text": [
      "['.ipynb_checkpoints', 'data  cleaning.ipynb']\n"
     ]
    }
   ],
   "source": [
    "print(os.listdir())"
   ]
  },
  {
   "cell_type": "code",
   "execution_count": 11,
   "id": "c2228b6f",
   "metadata": {},
   "outputs": [
    {
     "data": {
      "text/html": [
       "<div>\n",
       "<style scoped>\n",
       "    .dataframe tbody tr th:only-of-type {\n",
       "        vertical-align: middle;\n",
       "    }\n",
       "\n",
       "    .dataframe tbody tr th {\n",
       "        vertical-align: top;\n",
       "    }\n",
       "\n",
       "    .dataframe thead th {\n",
       "        text-align: right;\n",
       "    }\n",
       "</style>\n",
       "<table border=\"1\" class=\"dataframe\">\n",
       "  <thead>\n",
       "    <tr style=\"text-align: right;\">\n",
       "      <th></th>\n",
       "      <th>DateTime</th>\n",
       "      <th>Temperature</th>\n",
       "      <th>Humidity</th>\n",
       "      <th>Wind Speed</th>\n",
       "      <th>general diffuse flows</th>\n",
       "      <th>diffuse flows</th>\n",
       "      <th>Zone 1 Power Consumption</th>\n",
       "      <th>Zone 2  Power Consumption</th>\n",
       "      <th>Zone 3  Power Consumption</th>\n",
       "    </tr>\n",
       "  </thead>\n",
       "  <tbody>\n",
       "    <tr>\n",
       "      <th>0</th>\n",
       "      <td>1/1/2017 0:00</td>\n",
       "      <td>6.559</td>\n",
       "      <td>73.8</td>\n",
       "      <td>0.083</td>\n",
       "      <td>0.051</td>\n",
       "      <td>0.119</td>\n",
       "      <td>34055.69620</td>\n",
       "      <td>16128.87538</td>\n",
       "      <td>20240.96386</td>\n",
       "    </tr>\n",
       "    <tr>\n",
       "      <th>1</th>\n",
       "      <td>1/1/2017 0:10</td>\n",
       "      <td>6.414</td>\n",
       "      <td>74.5</td>\n",
       "      <td>0.083</td>\n",
       "      <td>0.070</td>\n",
       "      <td>0.085</td>\n",
       "      <td>29814.68354</td>\n",
       "      <td>19375.07599</td>\n",
       "      <td>20131.08434</td>\n",
       "    </tr>\n",
       "    <tr>\n",
       "      <th>2</th>\n",
       "      <td>1/1/2017 0:20</td>\n",
       "      <td>6.313</td>\n",
       "      <td>74.5</td>\n",
       "      <td>0.080</td>\n",
       "      <td>0.062</td>\n",
       "      <td>0.100</td>\n",
       "      <td>29128.10127</td>\n",
       "      <td>19006.68693</td>\n",
       "      <td>19668.43373</td>\n",
       "    </tr>\n",
       "    <tr>\n",
       "      <th>3</th>\n",
       "      <td>1/1/2017 0:30</td>\n",
       "      <td>6.121</td>\n",
       "      <td>75.0</td>\n",
       "      <td>0.083</td>\n",
       "      <td>0.091</td>\n",
       "      <td>0.096</td>\n",
       "      <td>28228.86076</td>\n",
       "      <td>18361.09422</td>\n",
       "      <td>18899.27711</td>\n",
       "    </tr>\n",
       "    <tr>\n",
       "      <th>4</th>\n",
       "      <td>1/1/2017 0:40</td>\n",
       "      <td>5.921</td>\n",
       "      <td>75.7</td>\n",
       "      <td>0.081</td>\n",
       "      <td>0.048</td>\n",
       "      <td>0.085</td>\n",
       "      <td>27335.69620</td>\n",
       "      <td>17872.34043</td>\n",
       "      <td>18442.40964</td>\n",
       "    </tr>\n",
       "  </tbody>\n",
       "</table>\n",
       "</div>"
      ],
      "text/plain": [
       "        DateTime  Temperature  Humidity  Wind Speed  general diffuse flows  \\\n",
       "0  1/1/2017 0:00        6.559      73.8       0.083                  0.051   \n",
       "1  1/1/2017 0:10        6.414      74.5       0.083                  0.070   \n",
       "2  1/1/2017 0:20        6.313      74.5       0.080                  0.062   \n",
       "3  1/1/2017 0:30        6.121      75.0       0.083                  0.091   \n",
       "4  1/1/2017 0:40        5.921      75.7       0.081                  0.048   \n",
       "\n",
       "   diffuse flows  Zone 1 Power Consumption  Zone 2  Power Consumption  \\\n",
       "0          0.119               34055.69620                16128.87538   \n",
       "1          0.085               29814.68354                19375.07599   \n",
       "2          0.100               29128.10127                19006.68693   \n",
       "3          0.096               28228.86076                18361.09422   \n",
       "4          0.085               27335.69620                17872.34043   \n",
       "\n",
       "   Zone 3  Power Consumption  \n",
       "0                20240.96386  \n",
       "1                20131.08434  \n",
       "2                19668.43373  \n",
       "3                18899.27711  \n",
       "4                18442.40964  "
      ]
     },
     "execution_count": 11,
     "metadata": {},
     "output_type": "execute_result"
    }
   ],
   "source": [
    "data_df=pd.read_csv('C:\\\\Users\\\\USER\\\\Downloads\\\\Tetuan City power consumption.csv')\n",
    "data_df.head()"
   ]
  },
  {
   "cell_type": "code",
   "execution_count": 12,
   "id": "c2c0449e",
   "metadata": {},
   "outputs": [
    {
     "data": {
      "text/plain": [
       "DateTime                     0\n",
       "Temperature                  0\n",
       "Humidity                     0\n",
       "Wind Speed                   0\n",
       "general diffuse flows        0\n",
       "diffuse flows                0\n",
       "Zone 1 Power Consumption     0\n",
       "Zone 2  Power Consumption    0\n",
       "Zone 3  Power Consumption    0\n",
       "dtype: int64"
      ]
     },
     "execution_count": 12,
     "metadata": {},
     "output_type": "execute_result"
    }
   ],
   "source": [
    "data_df.isnull().sum()"
   ]
  },
  {
   "cell_type": "code",
   "execution_count": 13,
   "id": "3dfcca12",
   "metadata": {},
   "outputs": [
    {
     "data": {
      "text/plain": [
       "array([6.559, 6.414, 6.313, ..., 6.947, 6.758, 6.58 ])"
      ]
     },
     "execution_count": 13,
     "metadata": {},
     "output_type": "execute_result"
    }
   ],
   "source": [
    "data_df['Temperature'].unique()"
   ]
  },
  {
   "cell_type": "code",
   "execution_count": 14,
   "id": "c6254cff",
   "metadata": {},
   "outputs": [
    {
     "data": {
      "text/plain": [
       "3437"
      ]
     },
     "execution_count": 14,
     "metadata": {},
     "output_type": "execute_result"
    }
   ],
   "source": [
    "data_df['Temperature'].nunique()"
   ]
  },
  {
   "cell_type": "code",
   "execution_count": 15,
   "id": "414c2851",
   "metadata": {},
   "outputs": [
    {
     "data": {
      "text/plain": [
       "15.18    58\n",
       "20.76    56\n",
       "19.79    55\n",
       "20.74    52\n",
       "20.83    51\n",
       "Name: Temperature, dtype: int64"
      ]
     },
     "execution_count": 15,
     "metadata": {},
     "output_type": "execute_result"
    }
   ],
   "source": [
    "id_counts=data_df['Temperature'].value_counts()\n",
    "id_counts.head()"
   ]
  },
  {
   "cell_type": "code",
   "execution_count": 16,
   "id": "a742a848",
   "metadata": {},
   "outputs": [
    {
     "data": {
      "text/plain": [
       "1     713\n",
       "2     219\n",
       "3     141\n",
       "4     104\n",
       "21     87\n",
       "25     85\n",
       "22     82\n",
       "5      80\n",
       "14     77\n",
       "27     76\n",
       "24     76\n",
       "26     75\n",
       "7      74\n",
       "20     73\n",
       "23     73\n",
       "8      72\n",
       "28     72\n",
       "29     68\n",
       "6      66\n",
       "32     66\n",
       "9      65\n",
       "19     63\n",
       "30     60\n",
       "18     60\n",
       "35     56\n",
       "16     56\n",
       "15     55\n",
       "17     55\n",
       "31     53\n",
       "37     53\n",
       "11     50\n",
       "10     49\n",
       "13     43\n",
       "33     42\n",
       "12     42\n",
       "36     41\n",
       "34     33\n",
       "38     28\n",
       "39     28\n",
       "40     25\n",
       "44     17\n",
       "42     17\n",
       "43     16\n",
       "41     13\n",
       "46      9\n",
       "47      8\n",
       "45      5\n",
       "49      4\n",
       "48      3\n",
       "51      3\n",
       "50      2\n",
       "56      1\n",
       "52      1\n",
       "55      1\n",
       "58      1\n",
       "Name: Temperature, dtype: int64"
      ]
     },
     "execution_count": 16,
     "metadata": {},
     "output_type": "execute_result"
    }
   ],
   "source": [
    "id_counts.value_counts()"
   ]
  },
  {
   "cell_type": "code",
   "execution_count": 4,
   "id": "8a83b623",
   "metadata": {},
   "outputs": [],
   "source": [
    "import numpy as np\n",
    "from numpy.random import default_rng\n",
    "rg=default_rng(12345)\n",
    "random_integers=rg.integers(low=1,high=5,size=100)"
   ]
  },
  {
   "cell_type": "code",
   "execution_count": 8,
   "id": "d39f9f53",
   "metadata": {},
   "outputs": [
    {
     "name": "stdout",
     "output_type": "stream",
     "text": [
      "15.18    False\n",
      "20.76    False\n",
      "19.79    False\n",
      "20.74    False\n",
      "20.83    False\n",
      "         ...  \n",
      "33.49    False\n",
      "33.35    False\n",
      "33.22    False\n",
      "30.68    False\n",
      "6.58     False\n",
      "Name: Temperature, Length: 3437, dtype: bool\n"
     ]
    }
   ],
   "source": [
    "import pandas as pd\n",
    "from collections import defaultdict\n",
    "data_df=pd.read_csv('C:\\\\Users\\\\USER\\\\Downloads\\\\Tetuan City power consumption.csv')\n",
    "id_counts=data_df['Temperature'].value_counts()\n",
    "id_counts.head()\n",
    "dupe_mask=id_counts==2\n",
    "print(dupe_mask) "
   ]
  },
  {
   "cell_type": "code",
   "execution_count": 9,
   "id": "fcce0716",
   "metadata": {},
   "outputs": [
    {
     "data": {
      "text/plain": [
       "Float64Index([15.18, 20.76, 19.79, 20.74, 20.83], dtype='float64')"
      ]
     },
     "execution_count": 9,
     "metadata": {},
     "output_type": "execute_result"
    }
   ],
   "source": [
    "id_counts.index[0:5]"
   ]
  },
  {
   "cell_type": "code",
   "execution_count": 10,
   "id": "d5eec0a2",
   "metadata": {},
   "outputs": [],
   "source": [
    " dupe_ids=id_counts.index[dupe_mask]"
   ]
  },
  {
   "cell_type": "code",
   "execution_count": 11,
   "id": "c49a4149",
   "metadata": {},
   "outputs": [
    {
     "data": {
      "text/plain": [
       "219"
      ]
     },
     "execution_count": 11,
     "metadata": {},
     "output_type": "execute_result"
    }
   ],
   "source": [
    "dupe_ids=list(dupe_ids)\n",
    "len(dupe_ids)"
   ]
  },
  {
   "cell_type": "code",
   "execution_count": 12,
   "id": "16de4116",
   "metadata": {},
   "outputs": [
    {
     "data": {
      "text/plain": [
       "[35.78, 28.99, 34.54, 6.883, 31.65]"
      ]
     },
     "execution_count": 12,
     "metadata": {},
     "output_type": "execute_result"
    }
   ],
   "source": [
    "dupe_ids[0:5]"
   ]
  },
  {
   "cell_type": "code",
   "execution_count": 23,
   "id": "2dfd5798",
   "metadata": {},
   "outputs": [
    {
     "data": {
      "text/html": [
       "<div>\n",
       "<style scoped>\n",
       "    .dataframe tbody tr th:only-of-type {\n",
       "        vertical-align: middle;\n",
       "    }\n",
       "\n",
       "    .dataframe tbody tr th {\n",
       "        vertical-align: top;\n",
       "    }\n",
       "\n",
       "    .dataframe thead th {\n",
       "        text-align: right;\n",
       "    }\n",
       "</style>\n",
       "<table border=\"1\" class=\"dataframe\">\n",
       "  <thead>\n",
       "    <tr style=\"text-align: right;\">\n",
       "      <th></th>\n",
       "      <th>DateTime</th>\n",
       "      <th>Temperature</th>\n",
       "      <th>Humidity</th>\n",
       "      <th>Wind Speed</th>\n",
       "      <th>general diffuse flows</th>\n",
       "      <th>diffuse flows</th>\n",
       "      <th>Zone 1 Power Consumption</th>\n",
       "      <th>Zone 2  Power Consumption</th>\n",
       "      <th>Zone 3  Power Consumption</th>\n",
       "    </tr>\n",
       "  </thead>\n",
       "  <tbody>\n",
       "    <tr>\n",
       "      <th>27000</th>\n",
       "      <td>7/7/2017 12:00</td>\n",
       "      <td>35.78</td>\n",
       "      <td>27.88</td>\n",
       "      <td>4.921</td>\n",
       "      <td>841.0</td>\n",
       "      <td>94.40</td>\n",
       "      <td>29444.25249</td>\n",
       "      <td>30592.40506</td>\n",
       "      <td>27378.07531</td>\n",
       "    </tr>\n",
       "    <tr>\n",
       "      <th>28590</th>\n",
       "      <td>7/18/2017 13:00</td>\n",
       "      <td>35.78</td>\n",
       "      <td>22.18</td>\n",
       "      <td>4.925</td>\n",
       "      <td>887.0</td>\n",
       "      <td>68.55</td>\n",
       "      <td>41812.62458</td>\n",
       "      <td>29096.20253</td>\n",
       "      <td>31408.87029</td>\n",
       "    </tr>\n",
       "    <tr>\n",
       "      <th>29624</th>\n",
       "      <td>7/25/2017 17:20</td>\n",
       "      <td>28.99</td>\n",
       "      <td>48.46</td>\n",
       "      <td>4.910</td>\n",
       "      <td>483.4</td>\n",
       "      <td>52.48</td>\n",
       "      <td>39580.06645</td>\n",
       "      <td>27451.89873</td>\n",
       "      <td>33065.77406</td>\n",
       "    </tr>\n",
       "    <tr>\n",
       "      <th>29733</th>\n",
       "      <td>7/26/2017 11:30</td>\n",
       "      <td>34.54</td>\n",
       "      <td>29.75</td>\n",
       "      <td>4.909</td>\n",
       "      <td>806.0</td>\n",
       "      <td>57.41</td>\n",
       "      <td>41736.07973</td>\n",
       "      <td>28788.60759</td>\n",
       "      <td>31788.45188</td>\n",
       "    </tr>\n",
       "    <tr>\n",
       "      <th>29748</th>\n",
       "      <td>7/26/2017 14:00</td>\n",
       "      <td>34.54</td>\n",
       "      <td>34.48</td>\n",
       "      <td>4.906</td>\n",
       "      <td>857.0</td>\n",
       "      <td>65.56</td>\n",
       "      <td>42252.75748</td>\n",
       "      <td>30303.79747</td>\n",
       "      <td>33800.83682</td>\n",
       "    </tr>\n",
       "    <tr>\n",
       "      <th>31619</th>\n",
       "      <td>8/8/2017 13:50</td>\n",
       "      <td>28.99</td>\n",
       "      <td>73.30</td>\n",
       "      <td>4.906</td>\n",
       "      <td>700.0</td>\n",
       "      <td>360.00</td>\n",
       "      <td>43663.48502</td>\n",
       "      <td>31156.91658</td>\n",
       "      <td>30075.98746</td>\n",
       "    </tr>\n",
       "  </tbody>\n",
       "</table>\n",
       "</div>"
      ],
      "text/plain": [
       "              DateTime  Temperature  Humidity  Wind Speed  \\\n",
       "27000   7/7/2017 12:00        35.78     27.88       4.921   \n",
       "28590  7/18/2017 13:00        35.78     22.18       4.925   \n",
       "29624  7/25/2017 17:20        28.99     48.46       4.910   \n",
       "29733  7/26/2017 11:30        34.54     29.75       4.909   \n",
       "29748  7/26/2017 14:00        34.54     34.48       4.906   \n",
       "31619   8/8/2017 13:50        28.99     73.30       4.906   \n",
       "\n",
       "       general diffuse flows  diffuse flows  Zone 1 Power Consumption  \\\n",
       "27000                  841.0          94.40               29444.25249   \n",
       "28590                  887.0          68.55               41812.62458   \n",
       "29624                  483.4          52.48               39580.06645   \n",
       "29733                  806.0          57.41               41736.07973   \n",
       "29748                  857.0          65.56               42252.75748   \n",
       "31619                  700.0         360.00               43663.48502   \n",
       "\n",
       "       Zone 2  Power Consumption  Zone 3  Power Consumption  \n",
       "27000                30592.40506                27378.07531  \n",
       "28590                29096.20253                31408.87029  \n",
       "29624                27451.89873                33065.77406  \n",
       "29733                28788.60759                31788.45188  \n",
       "29748                30303.79747                33800.83682  \n",
       "31619                31156.91658                30075.98746  "
      ]
     },
     "execution_count": 23,
     "metadata": {},
     "output_type": "execute_result"
    }
   ],
   "source": [
    "data_df.loc[data_df['Temperature'].isin(dupe_ids[0:3]),:]"
   ]
  },
  {
   "cell_type": "code",
   "execution_count": 24,
   "id": "373a2f93",
   "metadata": {},
   "outputs": [],
   "source": [
    "df_zero_mask=data_df==0"
   ]
  },
  {
   "cell_type": "code",
   "execution_count": 25,
   "id": "c8cd3af4",
   "metadata": {},
   "outputs": [],
   "source": [
    "feature_zero_mask=df_zero_mask.iloc[:,1:].all(axis=1)"
   ]
  },
  {
   "cell_type": "code",
   "execution_count": 26,
   "id": "e6715c1c",
   "metadata": {},
   "outputs": [
    {
     "data": {
      "text/plain": [
       "0"
      ]
     },
     "execution_count": 26,
     "metadata": {},
     "output_type": "execute_result"
    }
   ],
   "source": [
    "sum(feature_zero_mask)"
   ]
  },
  {
   "cell_type": "code",
   "execution_count": 29,
   "id": "1b030108",
   "metadata": {},
   "outputs": [],
   "source": [
    "data_df_clean_1=data_df.loc[feature_zero_mask,:].copy()"
   ]
  },
  {
   "cell_type": "code",
   "execution_count": 30,
   "id": "71371513",
   "metadata": {},
   "outputs": [
    {
     "data": {
      "text/plain": [
       "(0, 9)"
      ]
     },
     "execution_count": 30,
     "metadata": {},
     "output_type": "execute_result"
    }
   ],
   "source": [
    "data_df_clean_1.shape"
   ]
  },
  {
   "cell_type": "code",
   "execution_count": 31,
   "id": "930eb4e3",
   "metadata": {},
   "outputs": [
    {
     "data": {
      "text/plain": [
       "0"
      ]
     },
     "execution_count": 31,
     "metadata": {},
     "output_type": "execute_result"
    }
   ],
   "source": [
    "data_df_clean_1['Temperature'].nunique()"
   ]
  },
  {
   "cell_type": "code",
   "execution_count": null,
   "id": "f6fcb03f",
   "metadata": {},
   "outputs": [],
   "source": []
  }
 ],
 "metadata": {
  "kernelspec": {
   "display_name": "Python 3 (ipykernel)",
   "language": "python",
   "name": "python3"
  },
  "language_info": {
   "codemirror_mode": {
    "name": "ipython",
    "version": 3
   },
   "file_extension": ".py",
   "mimetype": "text/x-python",
   "name": "python",
   "nbconvert_exporter": "python",
   "pygments_lexer": "ipython3",
   "version": "3.9.12"
  }
 },
 "nbformat": 4,
 "nbformat_minor": 5
}
